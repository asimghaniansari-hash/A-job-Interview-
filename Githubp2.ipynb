{
  "nbformat": 4,
  "nbformat_minor": 0,
  "metadata": {
    "colab": {
      "provenance": []
    },
    "kernelspec": {
      "name": "python3",
      "display_name": "Python 3"
    },
    "language_info": {
      "name": "python"
    }
  },
  "cells": [
    {
      "cell_type": "code",
      "execution_count": 2,
      "metadata": {
        "colab": {
          "base_uri": "https://localhost:8080/"
        },
        "id": "GN8sEfTlZmqF",
        "outputId": "216fc419-9f6a-45a6-8bee-03c3c39e4f36"
      },
      "outputs": [
        {
          "output_type": "stream",
          "name": "stdout",
          "text": [
            "      A JOB INTERVIEW \n",
            "\n",
            " \n",
            "1- What is your name : Asim Ghani\n",
            "\n",
            "2- What is your education level : i'm Studying in automation engineering\n",
            "\n",
            "3- What is your skills :  A programmer And Editor And also top on Gaming\n",
            "\n",
            "4- What is your passion :  A Developer And Programmer\n",
            "\n",
            "5- which is your education Institute where do u study : Current i got Admission in Quest  Uni\n",
            "\n",
            "6- What is your educatiion purpose or AIM : To Develop Something Big And Unique for people's \n",
            "\n",
            "7- What is your current job : Nothing,  just  i do for my self and serve other people to Achieve  Big\n",
            "\n",
            "8- What is your Hobie's : Gaming, Programming, and  outdoor games \n",
            "\n",
            "9- Where do u live : I live in pakistan\n",
            "\n",
            "10- What are  u see  in our company to accept our job :  Hardwork\n",
            "\n",
            "11- in the end what is your advise for young students to accept our company for a job :  this great opportunity to you guys, this company serve good and Also Good in discipline \n",
            " \n",
            "\n",
            "                     Thank U Sir \n"
          ]
        }
      ],
      "source": [
        "# A Authored  By Engineer Asim Ghani Ansri\n",
        "\n",
        "#  Quizs or Question Answer A job interview\n",
        "\n",
        "print(\"      A JOB INTERVIEW \\n\\n \")\n",
        "a = input(\"1- What is your name : \")\n",
        "print()\n",
        "b = input(\"2- What is your education level : \")\n",
        "print()\n",
        "c = input(\"3- What is your skills : \")\n",
        "print()\n",
        "d = input(\"4- What is your passion : \")\n",
        "print()\n",
        "e = input(\"5- which is your education Institute where do u study : \")\n",
        "print()\n",
        "f = input(\"6- What is your educatiion purpose or AIM : \")\n",
        "print()\n",
        "g = input(\"7- What is your current job : \")\n",
        "print()\n",
        "h = input(\"8- What is your Hobie's : \")\n",
        "print()\n",
        "i = input(\"9- Where do u live : \")\n",
        "print()\n",
        "j = input(\"10- What are  u see  in our company to accept our job : \")\n",
        "print()\n",
        "k = input(\"11- in the end what is your advise for young students to accept our company for a job : \")\n",
        "m = print(\" \\n\\n                     Thank U Sir \")"
      ]
    }
  ]
}